{
 "cells": [
  {
   "cell_type": "code",
   "execution_count": 1,
   "metadata": {},
   "outputs": [
    {
     "name": "stdout",
     "output_type": "stream",
     "text": [
      "<class 'pandas.core.frame.DataFrame'>\n",
      "RangeIndex: 1176 entries, 0 to 1175\n",
      "Data columns (total 36 columns):\n",
      " #   Column                    Non-Null Count  Dtype \n",
      "---  ------                    --------------  ----- \n",
      " 0   user_id                   1176 non-null   int64 \n",
      " 1   Age                       1176 non-null   int64 \n",
      " 2   Attrition                 1176 non-null   object\n",
      " 3   BusinessTravel            1176 non-null   object\n",
      " 4   DailyRate                 1176 non-null   int64 \n",
      " 5   Department                1176 non-null   object\n",
      " 6   DistanceFromHome          1176 non-null   int64 \n",
      " 7   Education                 1176 non-null   int64 \n",
      " 8   EducationField            1176 non-null   object\n",
      " 9   EmployeeCount             1176 non-null   int64 \n",
      " 10  EmployeeNumber            1176 non-null   int64 \n",
      " 11  EnvironmentSatisfaction   1176 non-null   int64 \n",
      " 12  Gender                    1176 non-null   object\n",
      " 13  HourlyRate                1176 non-null   int64 \n",
      " 14  JobInvolvement            1176 non-null   int64 \n",
      " 15  JobLevel                  1176 non-null   int64 \n",
      " 16  JobRole                   1176 non-null   object\n",
      " 17  JobSatisfaction           1176 non-null   int64 \n",
      " 18  MaritalStatus             1176 non-null   object\n",
      " 19  MonthlyIncome             1176 non-null   int64 \n",
      " 20  MonthlyRate               1176 non-null   int64 \n",
      " 21  NumCompaniesWorked        1176 non-null   int64 \n",
      " 22  Over18                    1176 non-null   object\n",
      " 23  OverTime                  1176 non-null   object\n",
      " 24  PercentSalaryHike         1176 non-null   int64 \n",
      " 25  PerformanceRating         1176 non-null   int64 \n",
      " 26  RelationshipSatisfaction  1176 non-null   int64 \n",
      " 27  StandardHours             1176 non-null   int64 \n",
      " 28  StockOptionLevel          1176 non-null   int64 \n",
      " 29  TotalWorkingYears         1176 non-null   int64 \n",
      " 30  TrainingTimesLastYear     1176 non-null   int64 \n",
      " 31  WorkLifeBalance           1176 non-null   int64 \n",
      " 32  YearsAtCompany            1176 non-null   int64 \n",
      " 33  YearsInCurrentRole        1176 non-null   int64 \n",
      " 34  YearsSinceLastPromotion   1176 non-null   int64 \n",
      " 35  YearsWithCurrManager      1176 non-null   int64 \n",
      "dtypes: int64(27), object(9)\n",
      "memory usage: 330.9+ KB\n",
      "<class 'pandas.core.frame.DataFrame'>\n",
      "RangeIndex: 294 entries, 0 to 293\n",
      "Data columns (total 35 columns):\n",
      " #   Column                    Non-Null Count  Dtype \n",
      "---  ------                    --------------  ----- \n",
      " 0   user_id                   294 non-null    int64 \n",
      " 1   Age                       294 non-null    int64 \n",
      " 2   BusinessTravel            294 non-null    object\n",
      " 3   DailyRate                 294 non-null    int64 \n",
      " 4   Department                294 non-null    object\n",
      " 5   DistanceFromHome          294 non-null    int64 \n",
      " 6   Education                 294 non-null    int64 \n",
      " 7   EducationField            294 non-null    object\n",
      " 8   EmployeeCount             294 non-null    int64 \n",
      " 9   EmployeeNumber            294 non-null    int64 \n",
      " 10  EnvironmentSatisfaction   294 non-null    int64 \n",
      " 11  Gender                    294 non-null    object\n",
      " 12  HourlyRate                294 non-null    int64 \n",
      " 13  JobInvolvement            294 non-null    int64 \n",
      " 14  JobLevel                  294 non-null    int64 \n",
      " 15  JobRole                   294 non-null    object\n",
      " 16  JobSatisfaction           294 non-null    int64 \n",
      " 17  MaritalStatus             294 non-null    object\n",
      " 18  MonthlyIncome             294 non-null    int64 \n",
      " 19  MonthlyRate               294 non-null    int64 \n",
      " 20  NumCompaniesWorked        294 non-null    int64 \n",
      " 21  Over18                    294 non-null    object\n",
      " 22  OverTime                  294 non-null    object\n",
      " 23  PercentSalaryHike         294 non-null    int64 \n",
      " 24  PerformanceRating         294 non-null    int64 \n",
      " 25  RelationshipSatisfaction  294 non-null    int64 \n",
      " 26  StandardHours             294 non-null    int64 \n",
      " 27  StockOptionLevel          294 non-null    int64 \n",
      " 28  TotalWorkingYears         294 non-null    int64 \n",
      " 29  TrainingTimesLastYear     294 non-null    int64 \n",
      " 30  WorkLifeBalance           294 non-null    int64 \n",
      " 31  YearsAtCompany            294 non-null    int64 \n",
      " 32  YearsInCurrentRole        294 non-null    int64 \n",
      " 33  YearsSinceLastPromotion   294 non-null    int64 \n",
      " 34  YearsWithCurrManager      294 non-null    int64 \n",
      "dtypes: int64(27), object(8)\n",
      "memory usage: 80.5+ KB\n"
     ]
    }
   ],
   "source": [
    "import pandas as pd\n",
    "import numpy as np\n",
    "from matplotlib import pyplot as plt\n",
    "from sklearn.preprocessing import StandardScaler,LabelEncoder,OneHotEncoder\n",
    "from sklearn.linear_model import LogisticRegression\n",
    "from sklearn.metrics import auc\n",
    "from sklearn.tree import DecisionTreeClassifier\n",
    "from sklearn.svm import SVC\n",
    "from sklearn.ensemble import RandomForestClassifier,AdaBoostClassifier\n",
    "from sklearn.model_selection import train_test_split,cross_val_score\n",
    "import seaborn\n",
    "import warnings\n",
    "from sklearn.model_selection import GridSearchCV\n",
    "from sklearn.feature_selection import SelectKBest,chi2\n",
    "warnings.filterwarnings('ignore')\n",
    "\n",
    "data_train=pd.read_csv('C:/Users/zhouwei/Desktop/离职率预测/train.csv')\n",
    "data_test=pd.read_csv('C:/Users/zhouwei/Desktop/离职率预测/test.csv')\n",
    "#查看是否有缺失值\n",
    "data_train.info()\n",
    "data_test.info()"
   ]
  },
  {
   "cell_type": "markdown",
   "metadata": {},
   "source": [
    "统计出离职与部门与部门,education,title之间的关系，从分析中得出human resource部门的离职率最高，从EducationField来分析可以得出，human resourece的离职率最高，其次是Technical degree,从title role 上来分析，可以得出，sales representative 离职率最高，所以在进行文本到数值转换时，为了避免Labelencoder 进行数值转换而导致层级关系出现（比如：human resource：1，research：2，sale：3），对这三个特征进行的转换的时候使用onehotencoder，离职率最高的部门，岗位和education 设为1，其它都为0（此方法在第二次试验中尝试，当前全部使用labelencoder）"
   ]
  },
  {
   "cell_type": "code",
   "execution_count": 2,
   "metadata": {},
   "outputs": [
    {
     "name": "stdout",
     "output_type": "stream",
     "text": [
      "Department              Attrition\n",
      "Human Resources         No           0.792453\n",
      "                        Yes          0.207547\n",
      "Research & Development  No           0.863990\n",
      "                        Yes          0.136010\n",
      "Sales                   No           0.794872\n",
      "                        Yes          0.205128\n",
      "Name: Attrition, dtype: float64\n",
      "EducationField    Attrition\n",
      "Human Resources   No           0.695652\n",
      "                  Yes          0.304348\n",
      "Life Sciences     No           0.861224\n",
      "                  Yes          0.138776\n",
      "Marketing         No           0.766129\n",
      "                  Yes          0.233871\n",
      "Medical           No           0.873656\n",
      "                  Yes          0.126344\n",
      "Other             No           0.833333\n",
      "                  Yes          0.166667\n",
      "Technical Degree  No           0.747664\n",
      "                  Yes          0.252336\n",
      "Name: Attrition, dtype: float64\n",
      "JobRole                    Attrition\n",
      "Healthcare Representative  No           0.918367\n",
      "                           Yes          0.081633\n",
      "Human Resources            No           0.744186\n",
      "                           Yes          0.255814\n",
      "Laboratory Technician      No           0.757143\n",
      "                           Yes          0.242857\n",
      "Manager                    No           0.950617\n",
      "                           Yes          0.049383\n",
      "Manufacturing Director     No           0.948718\n",
      "                           Yes          0.051282\n",
      "Research Director          No           0.984127\n",
      "                           Yes          0.015873\n",
      "Research Scientist         No           0.850000\n",
      "                           Yes          0.150000\n",
      "Sales Executive            No           0.833333\n",
      "                           Yes          0.166667\n",
      "Sales Representative       No           0.575758\n",
      "                           Yes          0.424242\n",
      "Name: Attrition, dtype: float64\n"
     ]
    }
   ],
   "source": [
    "lis=['Department','EducationField','JobRole']\n",
    "for i in lis:\n",
    "    print(data_train.groupby(i)['Attrition'].value_counts()/data_train.groupby(i)['Attrition'].count())"
   ]
  },
  {
   "cell_type": "code",
   "execution_count": 3,
   "metadata": {},
   "outputs": [],
   "source": [
    "#处理非数值型的数据\n",
    "model=LabelEncoder()\n",
    "columns_trian=data_train.select_dtypes(exclude='int64').columns.tolist()\n",
    "columns_test=data_test.select_dtypes(exclude='int64').columns.tolist()\n",
    "data_train[columns_trian]=data_train[columns_trian].apply(model.fit_transform)\n",
    "data_test[columns_test]=data_test[columns_test].apply(model.fit_transform)"
   ]
  },
  {
   "cell_type": "markdown",
   "metadata": {},
   "source": [
    "对Age，DailyRate,MonthlyIncome,MonthlyRate,EmployeeNumber进行分组处理，使用pandas内部qcut将这几个特征的数据平均分成5个组。"
   ]
  },
  {
   "cell_type": "code",
   "execution_count": 4,
   "metadata": {},
   "outputs": [],
   "source": [
    "features=['Age','DailyRate','MonthlyIncome','MonthlyRate','EmployeeNumber']\n",
    "for feature in features:\n",
    "    data_train[feature]=pd.qcut(data_train[feature],5,labels=[1,2,3,4,5])\n",
    "    data_test[feature]=pd.qcut(data_test[feature],5,labels=[1,2,3,4,5])\n"
   ]
  },
  {
   "cell_type": "code",
   "execution_count": 5,
   "metadata": {},
   "outputs": [],
   "source": [
    "#选取10个最相关的特征进行拟合（此方法比较简单不易于提高模型的泛化能力，第二次模型进行其他特征选择的方法）\n",
    "model=SelectKBest(chi2,k=10)\n",
    "#进行数据切割\n",
    "Y=data_train.loc[:,'Attrition']\n",
    "X=data_train.drop(columns=['user_id','Attrition'],axis=1)\n",
    "model=model.fit(X,Y)\n",
    "x_new=model.transform(X)\n",
    "x_train,x_test,y_train,y_test=train_test_split(x_new,Y,train_size=0.8,random_state=000)\n",
    "#对test集进行更新\n",
    "data_test_1=data_test.drop(columns='user_id',axis=1)\n",
    "new_data_test=model.transform(data_test_1)"
   ]
  },
  {
   "cell_type": "code",
   "execution_count": 7,
   "metadata": {},
   "outputs": [
    {
     "name": "stdout",
     "output_type": "stream",
     "text": [
      "准确率结果:0.8531914893617021 LR\n",
      "准确率结果:0.7734042553191489 DC\n",
      "准确率结果:0.8361702127659575 SVC\n",
      "准确率结果:0.8468085106382978 RC\n",
      "准确率结果:0.85 AC\n"
     ]
    }
   ],
   "source": [
    "#进行模型选择,使用交叉验证法进行选择出最适合的模型\n",
    "models=[LogisticRegression(),DecisionTreeClassifier(),SVC(),RandomForestClassifier(),AdaBoostClassifier()]\n",
    "score=dict()\n",
    "name=['LR','DC','SVC','RC','AC']\n",
    "for model,label in zip(models,name):\n",
    "    result=cross_val_score(estimator=model,X=x_train,y=y_train,cv=10,scoring='accuracy')\n",
    "    print('准确率结果:{}'.format(np.mean(result)),label)  "
   ]
  },
  {
   "cell_type": "markdown",
   "metadata": {},
   "source": [
    "通过上述交叉验证法可以发现AdaBoostClassfier函数预测的准确性较高,进行模型模拟，并进行超参数调整。"
   ]
  },
  {
   "cell_type": "code",
   "execution_count": 8,
   "metadata": {},
   "outputs": [],
   "source": [
    "param_grid={\n",
    "    'learning_rate':[0.1,0.2,0.3,0.4,0.5,0.6,0.7,0.8,0.9,1],\n",
    "    'n_estimators':[i for i in range(0,100,10)]\n",
    "}\n",
    "model=GridSearchCV(estimator=AdaBoostClassifier(random_state=000),cv=10,param_grid=param_grid,scoring='roc_auc',n_jobs=-1)"
   ]
  },
  {
   "cell_type": "code",
   "execution_count": 10,
   "metadata": {},
   "outputs": [],
   "source": [
    "total=model.fit(x_train,y_train)\n",
    "x_predict=new_data_test\n",
    "y_predict=total.predict_proba(x_predict)[:,1]\n",
    "submission=pd.DataFrame({'id':data_test.user_id,'Attrition':y_predict})"
   ]
  },
  {
   "cell_type": "code",
   "execution_count": null,
   "metadata": {},
   "outputs": [],
   "source": []
  },
  {
   "cell_type": "code",
   "execution_count": null,
   "metadata": {},
   "outputs": [],
   "source": []
  },
  {
   "cell_type": "code",
   "execution_count": null,
   "metadata": {},
   "outputs": [],
   "source": []
  }
 ],
 "metadata": {
  "kernelspec": {
   "display_name": "Python 3",
   "language": "python",
   "name": "python3"
  },
  "language_info": {
   "codemirror_mode": {
    "name": "ipython",
    "version": 3
   },
   "file_extension": ".py",
   "mimetype": "text/x-python",
   "name": "python",
   "nbconvert_exporter": "python",
   "pygments_lexer": "ipython3",
   "version": "3.7.6"
  }
 },
 "nbformat": 4,
 "nbformat_minor": 4
}
